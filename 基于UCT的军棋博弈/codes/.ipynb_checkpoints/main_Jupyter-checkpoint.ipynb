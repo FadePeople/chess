{
 "cells": [
  {
   "cell_type": "code",
   "execution_count": null,
   "metadata": {},
   "outputs": [],
   "source": [
    "from 全局变量辅助 import *\n",
    "from 基础函数 import *\n",
    "from 变量 import *\n",
    "import  logging\n",
    "logging.basicConfig(level=logging.INFO)\n"
   ]
  },
  {
   "cell_type": "code",
   "execution_count": null,
   "metadata": {},
   "outputs": [],
   "source": [
    "def logit():\n",
    "    概率表log()\n",
    "    改变概率表(54,'工兵',0)\n",
    "    概率表log()"
   ]
  },
  {
   "cell_type": "code",
   "execution_count": null,
   "metadata": {},
   "outputs": [],
   "source": [
    "#def main：\n",
    "输入消息 = val('输入消息',input().split())\n",
    "while 输入消息[0]!='END':\n",
    "    if 输入消息[0] == 'INFO':\n",
    "        信息处理INFO()\n",
    "        print(val('输出消息'))\n",
    "    elif 输入消息[0] == 'START':\n",
    "        反馈布局START()\n",
    "        print(val('输出消息'))\n",
    "        #log######\n",
    "        概率表log()\n",
    "    elif 输入消息[0] == 'GO':\n",
    "        信息处理GO指令()\n",
    "        #行棋 ： 复刻当前棋局和概率表 ->>{ 抛针得到完备棋局 -> UTC算法得到最优解([起点,终点]) } -> 选择重复最多的最优解 \n",
    "        行棋函数驱动()\n",
    "        print(val('输出消息'))\n",
    "        #log#####\n",
    "        概率表log()\n",
    "        val('棋盘').display()\n",
    "    elif 输入消息[0] == 'RESULT':\n",
    "        信息处理RESULT指令()\n",
    "    elif 输入消息[0] == 'END':\n",
    "        break\n",
    "    elif 输入消息[0] == 'log':\n",
    "        logit()\n",
    "    else:\n",
    "        break\n",
    "    \n",
    "    输入消息 = val('输入消息',input().split())\n"
   ]
  }
 ],
 "metadata": {
  "kernelspec": {
   "display_name": "Python 3",
   "language": "python",
   "name": "python3"
  },
  "language_info": {
   "codemirror_mode": {
    "name": "ipython",
    "version": 3
   },
   "file_extension": ".py",
   "mimetype": "text/x-python",
   "name": "python",
   "nbconvert_exporter": "python",
   "pygments_lexer": "ipython3",
   "version": "3.7.2"
  }
 },
 "nbformat": 4,
 "nbformat_minor": 2
}
